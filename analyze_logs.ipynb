{
 "cells": [
  {
   "cell_type": "markdown",
   "metadata": {},
   "source": [
    "# Zadanie II: Strażnik Cyberbezpieczeństwa – Ochrona Systemu\n",
    "W tym zadaniu będziemy analizować logi serwera w celu wykrycia potencjalnych ataków hakerskich. Naszym celem jest stworzenie modelu detekcji anomalii, który pozwoli na identyfikację nietypowych zachowań w systemie. W pierwszej kolejności pobierzemy logi serwera z podanego adresu, a następnie przeprowadzimy ich analizę, aby zbudować model AI wykrywający anomalie. Na koniec przygotujemy raport zawierający wyniki naszej analizy, opis zidentyfikowanych anomalii oraz instrukcje uruchomienia modelu."
   ]
  },
  {
   "cell_type": "code",
   "execution_count": 1,
   "metadata": {},
   "outputs": [
    {
     "ename": "",
     "evalue": "",
     "output_type": "error",
     "traceback": [
      "\u001b[1;31mThe Kernel crashed while executing code in the current cell or a previous cell. \n",
      "\u001b[1;31mPlease review the code in the cell(s) to identify a possible cause of the failure. \n",
      "\u001b[1;31mClick <a href='https://aka.ms/vscodeJupyterKernelCrash'>here</a> for more info. \n",
      "\u001b[1;31mView Jupyter <a href='command:jupyter.viewOutput'>log</a> for further details."
     ]
    }
   ],
   "source": [
    "from LogAnalyzer import LogAnalyzer\n",
    "try:\n",
    "    analyzer = LogAnalyzer(\"./data/logs.csv\")\n",
    "    analyzer.load_data()\n",
    "    analyzer.preprocess_data()\n",
    "\n",
    "    # Trenowanie modelu\n",
    "    analyzer.train_anomaly_detector(contamination=0.1)\n",
    "\n",
    "    # Analiza anomalii\n",
    "    anomalies = analyzer.analyze_anomalies()\n",
    "\n",
    "    # Generowanie raportu\n",
    "    report = analyzer.generate_security_report()\n",
    "    print(\"\\nRaport bezpieczeństwa:\")\n",
    "    for key, value in report.items():\n",
    "        print(f\"\\n{key}:\")\n",
    "        print(value)\n",
    "except Exception as e:\n",
    "    print(f\"An error occurred: {e}\")\n"
   ]
  }
 ],
 "metadata": {
  "kernelspec": {
   "display_name": "pytorch-max",
   "language": "python",
   "name": "python3"
  },
  "language_info": {
   "codemirror_mode": {
    "name": "ipython",
    "version": 3
   },
   "file_extension": ".py",
   "mimetype": "text/x-python",
   "name": "python",
   "nbconvert_exporter": "python",
   "pygments_lexer": "ipython3",
   "version": "3.12.8"
  }
 },
 "nbformat": 4,
 "nbformat_minor": 2
}
