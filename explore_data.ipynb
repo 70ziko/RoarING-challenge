{
 "cells": [
  {
   "cell_type": "markdown",
   "metadata": {},
   "source": [
    "# Zadanie II: Strażnik Cyberbezpieczeństwa – Ochrona Systemu\n",
    "W tym zadaniu analizuję logi serwera w celu wykrycia potencjalnych ataków hakerskich. Celem jest stworzenie modelu detekcji anomalii, który pozwoli na identyfikację nietypowych zachowań w systemie. W pierwszej kolejności przeprowadzę eksplorację danych, aby zbadać potencjalne cechy i wyczuć co będzie wazne podczas projektowania i trenowania modeli statystycznych jak i sieci neuronowych.\n",
    "\n",
    "## Plan działania\n",
    "1. Eksploracja danych\n",
    "2. Feature engineering, preprocessing, etc...\n",
    "2. Opracowanie modelu statystycznego\n",
    "3. Opracowanie sieci neuronowej\n",
    "4. Trenowanie oraz walidacja sieci neuronowej\n",
    "5. Test skuteczności na datasecie testowym"
   ]
  },
  {
   "cell_type": "markdown",
   "metadata": {},
   "source": []
  },
  {
   "cell_type": "markdown",
   "metadata": {},
   "source": [
    "# 1. Eksploracja danych\n",
    "Eksplorację danych będę wykonywał wykorzystując napisaną klasę StatisticalAnalyzer. \n",
    "W klasie znajduje się takze metoda wykorzystująca algorytm IsolationForest do wykrywania anomalii"
   ]
  },
  {
   "cell_type": "code",
   "execution_count": null,
   "metadata": {},
   "outputs": [],
   "source": [
    "from StatisticalAnalyzer import StatisticalAnalyzer\n",
    "try:\n",
    "    analyzer = StatisticalAnalyzer(\"data/logs.csv\")\n",
    "    analyzer.load_data()\n",
    "\n",
    "except Exception as e:\n",
    "    print(f\"An error occurred: {e}\")\n"
   ]
  },
  {
   "cell_type": "code",
   "execution_count": null,
   "metadata": {},
   "outputs": [],
   "source": [
    "analyzer.preprocess_data()\n",
    "\n",
    "# Trenowanie modelu\n",
    "analyzer.train_anomaly_detector(contamination=0.1)\n",
    "\n",
    "# Analiza anomalii\n",
    "anomalies = analyzer.analyze_anomalies()\n",
    "\n",
    "# Generowanie raportu\n",
    "report = analyzer.generate_security_report()\n",
    "print(\"\\nRaport bezpieczeństwa:\")\n",
    "for key, value in report.items():\n",
    "    print(f\"\\n{key}:\")\n",
    "    print(value)"
   ]
  }
 ],
 "metadata": {
  "language_info": {
   "name": "python"
  }
 },
 "nbformat": 4,
 "nbformat_minor": 2
}
